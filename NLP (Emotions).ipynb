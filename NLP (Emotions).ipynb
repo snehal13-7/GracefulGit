{
 "cells": [
  {
   "cell_type": "markdown",
   "id": "d536b08a",
   "metadata": {},
   "source": [
    "<div style=\"border-radius:10px; border:black 5px solid ; padding:20px;color:black;margin:0;font-size:30px;font-family:Roboto;text-align:center;display:fill;border-radius:5px;background: linear-gradient(to right,peru, peachpuff);overflow:hidden;\"><b> Natural Language Processing </b></div>"
   ]
  },
  {
   "cell_type": "markdown",
   "id": "58b1e35a",
   "metadata": {},
   "source": [
    "<div style=\"border-radius:10px;; padding: 15px; background: linear-gradient(to left,white, lightyellow); font-size:100%; text-align:left\">\n",
    "<h3 align=\"left\"><font color=Black>Problem Statement:</font></h3><br>\n",
    "    \n",
    "Develop an NLP model to predict emotions based on textual content, and assess the performance of the model using multiple classification algorithms, including Decision Tree, Random Forest, and Naive Bayes. The primary aim is to compare the accuracy of these algorithms in emotion classification."
   ]
  },
  {
   "cell_type": "markdown",
   "id": "26c3945a",
   "metadata": {},
   "source": [
    "<div style=\"border-radius:10px;; padding: 15px; background: linear-gradient(to left,white, lightyellow); font-size:100%; text-align:left\">\n",
    "<h3 align=\"left\"><font color=Black>Objectives:</font></h3><br>\n",
    "    \n",
    "<b>Data Preprocessing:</b>\n",
    "Clean and preprocess the text data, addressing any missing values and performing basic text cleaning techniques.\n",
    "Convert the text data into a suitable format for machine learning model training.\n",
    "    \n",
    "<b>Feature Engineering:</b></b>\n",
    "Extract relevant features from the text data, considering techniques like TF-IDF or word embeddings.\n",
    "    \n",
    "<b>Model Selection:</b>\n",
    "Choose and implement multiple classification algorithms: Decision Tree, Random Forest, and Naive Bayes, for emotion prediction.\n",
    "    \n",
    "<b>Model Training and Evaluation:</b>\n",
    "Split the dataset into training and validation sets.\n",
    "Train each selected algorithm on the training set and evaluate its performance on the validation set.\n",
    "Measure accuracy, precision, recall, and F1-score for each algorithm.\n",
    "    \n",
    "<b>Comparison of Algorithms:</b>\n",
    "Analyze and compare the performance of Decision Tree, Random Forest, and Naive Bayes in terms of accuracy and other relevant metrics.\n",
    "Identify the algorithm(s) that perform best in emotion classification on the given dataset.\n",
    "    "
   ]
  },
  {
   "cell_type": "markdown",
   "id": "dd5aa419",
   "metadata": {},
   "source": [
    "----------"
   ]
  },
  {
   "cell_type": "markdown",
   "id": "8ab9d39c",
   "metadata": {},
   "source": [
    "<span style=\"padding:20px;color:black;margin:0;font-size:18px;font-family:Arial;display:fit;border-radius:5px;background: linear-gradient(to left,white, darksalmon);overflow:hidden; text-align:center;\"><b>Emotion.</b>"
   ]
  },
  {
   "cell_type": "markdown",
   "id": "6b6b7c1f",
   "metadata": {},
   "source": [
    "****************************"
   ]
  },
  {
   "cell_type": "code",
   "execution_count": 44,
   "id": "d9f7b375",
   "metadata": {},
   "outputs": [],
   "source": [
    "import pandas as pd\n",
    "import string\n",
    "import nltk\n",
    "from nltk.corpus import stopwords"
   ]
  },
  {
   "cell_type": "code",
   "execution_count": 45,
   "id": "61d192df",
   "metadata": {},
   "outputs": [],
   "source": [
    "em=pd.read_csv(r\"C:\\Users\\nehaw\\Desktop\\Class Material\\Python\\DATA_FILES\\emotion_nlp.csv\", encoding='latin1')"
   ]
  },
  {
   "cell_type": "code",
   "execution_count": 46,
   "id": "573ec829",
   "metadata": {
    "scrolled": true
   },
   "outputs": [
    {
     "data": {
      "text/html": [
       "<div>\n",
       "<style scoped>\n",
       "    .dataframe tbody tr th:only-of-type {\n",
       "        vertical-align: middle;\n",
       "    }\n",
       "\n",
       "    .dataframe tbody tr th {\n",
       "        vertical-align: top;\n",
       "    }\n",
       "\n",
       "    .dataframe thead th {\n",
       "        text-align: right;\n",
       "    }\n",
       "</style>\n",
       "<table border=\"1\" class=\"dataframe\">\n",
       "  <thead>\n",
       "    <tr style=\"text-align: right;\">\n",
       "      <th></th>\n",
       "      <th>Text</th>\n",
       "      <th>Emotions</th>\n",
       "    </tr>\n",
       "  </thead>\n",
       "  <tbody>\n",
       "    <tr>\n",
       "      <th>0</th>\n",
       "      <td>i didnt feel humiliated</td>\n",
       "      <td>sadness</td>\n",
       "    </tr>\n",
       "    <tr>\n",
       "      <th>1</th>\n",
       "      <td>i can go from feeling so hopeless to so damned...</td>\n",
       "      <td>sadness</td>\n",
       "    </tr>\n",
       "    <tr>\n",
       "      <th>2</th>\n",
       "      <td>im grabbing a minute to post i feel greedy wrong</td>\n",
       "      <td>anger</td>\n",
       "    </tr>\n",
       "    <tr>\n",
       "      <th>3</th>\n",
       "      <td>i am ever feeling nostalgic about the fireplac...</td>\n",
       "      <td>love</td>\n",
       "    </tr>\n",
       "    <tr>\n",
       "      <th>4</th>\n",
       "      <td>i am feeling grouchy</td>\n",
       "      <td>anger</td>\n",
       "    </tr>\n",
       "  </tbody>\n",
       "</table>\n",
       "</div>"
      ],
      "text/plain": [
       "                                                Text Emotions\n",
       "0                            i didnt feel humiliated  sadness\n",
       "1  i can go from feeling so hopeless to so damned...  sadness\n",
       "2   im grabbing a minute to post i feel greedy wrong    anger\n",
       "3  i am ever feeling nostalgic about the fireplac...     love\n",
       "4                               i am feeling grouchy    anger"
      ]
     },
     "execution_count": 46,
     "metadata": {},
     "output_type": "execute_result"
    }
   ],
   "source": [
    "em.head()"
   ]
  },
  {
   "cell_type": "code",
   "execution_count": 47,
   "id": "70460128",
   "metadata": {},
   "outputs": [
    {
     "data": {
      "text/plain": [
       "joy         6056\n",
       "sadness     5247\n",
       "anger       2434\n",
       "fear        2161\n",
       "love        1463\n",
       "surprise     638\n",
       "Name: Emotions, dtype: int64"
      ]
     },
     "execution_count": 47,
     "metadata": {},
     "output_type": "execute_result"
    }
   ],
   "source": [
    "em.Emotions.value_counts()"
   ]
  },
  {
   "cell_type": "markdown",
   "id": "7b9fa1d7",
   "metadata": {},
   "source": [
    "-----"
   ]
  },
  {
   "cell_type": "markdown",
   "id": "5ff8057f",
   "metadata": {},
   "source": [
    "<span style=\"padding:20px;color:black;margin:0;font-size:18px;font-family:Arial;display:fit;border-radius:5px;background: linear-gradient(to left,white, darksalmon);overflow:hidden; text-align:center;\"><b>Rename & Replace Columns.</b>"
   ]
  },
  {
   "cell_type": "code",
   "execution_count": 48,
   "id": "6ef422cb",
   "metadata": {},
   "outputs": [],
   "source": [
    "em.rename(columns={'Text':'x','Emotions':'y'},inplace=True)"
   ]
  },
  {
   "cell_type": "code",
   "execution_count": 49,
   "id": "cf4194db",
   "metadata": {},
   "outputs": [],
   "source": [
    "em.y.replace({'anger':1,'sadness':1,'fear':2,'surprise':2,'joy':3,'love':3},inplace=True)"
   ]
  },
  {
   "cell_type": "code",
   "execution_count": 50,
   "id": "205f9e4d",
   "metadata": {},
   "outputs": [],
   "source": [
    "# em.y.replace({'anger':0,'sadness':1,'fear':2,'surprise':3,'joy':4,'love':5},inplace=True)"
   ]
  },
  {
   "cell_type": "code",
   "execution_count": 51,
   "id": "cb4ffc2e",
   "metadata": {},
   "outputs": [
    {
     "data": {
      "text/html": [
       "<div>\n",
       "<style scoped>\n",
       "    .dataframe tbody tr th:only-of-type {\n",
       "        vertical-align: middle;\n",
       "    }\n",
       "\n",
       "    .dataframe tbody tr th {\n",
       "        vertical-align: top;\n",
       "    }\n",
       "\n",
       "    .dataframe thead th {\n",
       "        text-align: right;\n",
       "    }\n",
       "</style>\n",
       "<table border=\"1\" class=\"dataframe\">\n",
       "  <thead>\n",
       "    <tr style=\"text-align: right;\">\n",
       "      <th></th>\n",
       "      <th>x</th>\n",
       "      <th>y</th>\n",
       "    </tr>\n",
       "  </thead>\n",
       "  <tbody>\n",
       "    <tr>\n",
       "      <th>0</th>\n",
       "      <td>i didnt feel humiliated</td>\n",
       "      <td>1</td>\n",
       "    </tr>\n",
       "    <tr>\n",
       "      <th>1</th>\n",
       "      <td>i can go from feeling so hopeless to so damned...</td>\n",
       "      <td>1</td>\n",
       "    </tr>\n",
       "    <tr>\n",
       "      <th>2</th>\n",
       "      <td>im grabbing a minute to post i feel greedy wrong</td>\n",
       "      <td>1</td>\n",
       "    </tr>\n",
       "    <tr>\n",
       "      <th>3</th>\n",
       "      <td>i am ever feeling nostalgic about the fireplac...</td>\n",
       "      <td>3</td>\n",
       "    </tr>\n",
       "    <tr>\n",
       "      <th>4</th>\n",
       "      <td>i am feeling grouchy</td>\n",
       "      <td>1</td>\n",
       "    </tr>\n",
       "    <tr>\n",
       "      <th>...</th>\n",
       "      <td>...</td>\n",
       "      <td>...</td>\n",
       "    </tr>\n",
       "    <tr>\n",
       "      <th>17994</th>\n",
       "      <td>i just keep feeling like someone is being unki...</td>\n",
       "      <td>1</td>\n",
       "    </tr>\n",
       "    <tr>\n",
       "      <th>17995</th>\n",
       "      <td>im feeling a little cranky negative after this...</td>\n",
       "      <td>1</td>\n",
       "    </tr>\n",
       "    <tr>\n",
       "      <th>17996</th>\n",
       "      <td>i feel that i am useful to my people and that ...</td>\n",
       "      <td>3</td>\n",
       "    </tr>\n",
       "    <tr>\n",
       "      <th>17997</th>\n",
       "      <td>im feeling more comfortable with derby i feel ...</td>\n",
       "      <td>3</td>\n",
       "    </tr>\n",
       "    <tr>\n",
       "      <th>17998</th>\n",
       "      <td>i feel all weird when i have to meet w people ...</td>\n",
       "      <td>2</td>\n",
       "    </tr>\n",
       "  </tbody>\n",
       "</table>\n",
       "<p>17999 rows × 2 columns</p>\n",
       "</div>"
      ],
      "text/plain": [
       "                                                       x  y\n",
       "0                                i didnt feel humiliated  1\n",
       "1      i can go from feeling so hopeless to so damned...  1\n",
       "2       im grabbing a minute to post i feel greedy wrong  1\n",
       "3      i am ever feeling nostalgic about the fireplac...  3\n",
       "4                                   i am feeling grouchy  1\n",
       "...                                                  ... ..\n",
       "17994  i just keep feeling like someone is being unki...  1\n",
       "17995  im feeling a little cranky negative after this...  1\n",
       "17996  i feel that i am useful to my people and that ...  3\n",
       "17997  im feeling more comfortable with derby i feel ...  3\n",
       "17998  i feel all weird when i have to meet w people ...  2\n",
       "\n",
       "[17999 rows x 2 columns]"
      ]
     },
     "execution_count": 51,
     "metadata": {},
     "output_type": "execute_result"
    }
   ],
   "source": [
    "em"
   ]
  },
  {
   "cell_type": "markdown",
   "id": "2aff22d5",
   "metadata": {},
   "source": [
    "#### convert stopwords into list to decrease execution time"
   ]
  },
  {
   "cell_type": "code",
   "execution_count": 52,
   "id": "d990ad27",
   "metadata": {},
   "outputs": [],
   "source": [
    "l1=list(stopwords.words(\"english\"))"
   ]
  },
  {
   "cell_type": "markdown",
   "id": "cc02a544",
   "metadata": {},
   "source": [
    "<span style=\"padding:20px;color:black;margin:0;font-size:18px;font-family:Arial;display:fit;border-radius:5px;background: linear-gradient(to left,white, darksalmon);overflow:hidden; text-align:center;\"><b>Removing Stopwords</b>"
   ]
  },
  {
   "cell_type": "code",
   "execution_count": 53,
   "id": "d566d25f",
   "metadata": {},
   "outputs": [],
   "source": [
    "l1=list(stopwords.words(\"English\"))"
   ]
  },
  {
   "cell_type": "code",
   "execution_count": 54,
   "id": "a7b7192b",
   "metadata": {},
   "outputs": [],
   "source": [
    "def text_process(mess):  ## create a function\n",
    "    \n",
    "    \"\"\"\n",
    "    1.Remove the punctuations\n",
    "    2.Remove the stopwords\n",
    "    3.Return the list of clean textwors\n",
    "    \n",
    "    \"\"\"\n",
    "    nopunc=[char for char in mess if char not in string.punctuation]\n",
    "    nopunc=\"\".join(nopunc)\n",
    "    \n",
    "    return[word for word in nopunc.split() if word not in l1]"
   ]
  },
  {
   "cell_type": "markdown",
   "id": "198988b5",
   "metadata": {},
   "source": [
    "<span style=\"padding:20px;color:black;margin:0;font-size:18px;font-family:Arial;display:fit;border-radius:5px;background: linear-gradient(to left,white, darksalmon);overflow:hidden; text-align:center;\"><b>Measuring Execution time and reduce it\n",
    "</b>"
   ]
  },
  {
   "cell_type": "code",
   "execution_count": 55,
   "id": "9808df28",
   "metadata": {},
   "outputs": [],
   "source": [
    "from sklearn.feature_extraction.text import CountVectorizer "
   ]
  },
  {
   "cell_type": "code",
   "execution_count": 56,
   "id": "d1b84378",
   "metadata": {},
   "outputs": [
    {
     "name": "stdout",
     "output_type": "stream",
     "text": [
      "program Executed in 1.2977392000029795\n"
     ]
    }
   ],
   "source": [
    "import timeit\n",
    "start= timeit.default_timer()\n",
    "\n",
    "bow_transformer=CountVectorizer(analyzer=text_process).fit(em[\"x\"])\n",
    "\n",
    "stop= timeit.default_timer()\n",
    "execution_time=stop-start\n",
    "print(\"program Executed in\",execution_time)"
   ]
  },
  {
   "cell_type": "markdown",
   "id": "9b998cb5",
   "metadata": {},
   "source": [
    "<span style=\"padding:20px;color:black;margin:0;font-size:18px;font-family:Arial;display:fit;border-radius:5px;background: linear-gradient(to left,white, darksalmon);overflow:hidden; text-align:center;\"><b>tdm</b>"
   ]
  },
  {
   "cell_type": "code",
   "execution_count": 57,
   "id": "062b21b7",
   "metadata": {},
   "outputs": [],
   "source": [
    "tdm=bow_transformer.transform(em[\"x\"])"
   ]
  },
  {
   "cell_type": "markdown",
   "id": "84530079",
   "metadata": {},
   "source": [
    "<span style=\"padding:20px;color:black;margin:0;font-size:18px;font-family:Arial;display:fit;border-radius:5px;background: linear-gradient(to left,white, darksalmon);overflow:hidden; text-align:center;\"><b>Sampling</b>"
   ]
  },
  {
   "cell_type": "code",
   "execution_count": 58,
   "id": "9a7c3d7e",
   "metadata": {},
   "outputs": [],
   "source": [
    "from sklearn.model_selection import train_test_split"
   ]
  },
  {
   "cell_type": "code",
   "execution_count": 59,
   "id": "09f69759",
   "metadata": {},
   "outputs": [],
   "source": [
    "tdm_train,tdm_test,train_y,test_y = train_test_split(tdm,em[\"y\"],test_size=.2)"
   ]
  },
  {
   "cell_type": "markdown",
   "id": "0258ff2b",
   "metadata": {},
   "source": [
    "-----"
   ]
  },
  {
   "cell_type": "markdown",
   "id": "ff923fd5",
   "metadata": {},
   "source": [
    "<span style=\"padding:20px;color:black;margin:0;font-size:18px;font-family:Arial;display:fit;border-radius:5px;background: linear-gradient(to left,white, darksalmon);overflow:hidden; text-align:center;\"><b>naive_bayes</b>"
   ]
  },
  {
   "cell_type": "markdown",
   "id": "6706837e",
   "metadata": {},
   "source": [
    "----"
   ]
  },
  {
   "cell_type": "code",
   "execution_count": 60,
   "id": "fe3343e2",
   "metadata": {},
   "outputs": [],
   "source": [
    "from sklearn.naive_bayes import MultinomialNB\n",
    "nb=MultinomialNB()"
   ]
  },
  {
   "cell_type": "code",
   "execution_count": 61,
   "id": "27e3b120",
   "metadata": {},
   "outputs": [
    {
     "data": {
      "text/html": [
       "<style>#sk-container-id-4 {color: black;}#sk-container-id-4 pre{padding: 0;}#sk-container-id-4 div.sk-toggleable {background-color: white;}#sk-container-id-4 label.sk-toggleable__label {cursor: pointer;display: block;width: 100%;margin-bottom: 0;padding: 0.3em;box-sizing: border-box;text-align: center;}#sk-container-id-4 label.sk-toggleable__label-arrow:before {content: \"▸\";float: left;margin-right: 0.25em;color: #696969;}#sk-container-id-4 label.sk-toggleable__label-arrow:hover:before {color: black;}#sk-container-id-4 div.sk-estimator:hover label.sk-toggleable__label-arrow:before {color: black;}#sk-container-id-4 div.sk-toggleable__content {max-height: 0;max-width: 0;overflow: hidden;text-align: left;background-color: #f0f8ff;}#sk-container-id-4 div.sk-toggleable__content pre {margin: 0.2em;color: black;border-radius: 0.25em;background-color: #f0f8ff;}#sk-container-id-4 input.sk-toggleable__control:checked~div.sk-toggleable__content {max-height: 200px;max-width: 100%;overflow: auto;}#sk-container-id-4 input.sk-toggleable__control:checked~label.sk-toggleable__label-arrow:before {content: \"▾\";}#sk-container-id-4 div.sk-estimator input.sk-toggleable__control:checked~label.sk-toggleable__label {background-color: #d4ebff;}#sk-container-id-4 div.sk-label input.sk-toggleable__control:checked~label.sk-toggleable__label {background-color: #d4ebff;}#sk-container-id-4 input.sk-hidden--visually {border: 0;clip: rect(1px 1px 1px 1px);clip: rect(1px, 1px, 1px, 1px);height: 1px;margin: -1px;overflow: hidden;padding: 0;position: absolute;width: 1px;}#sk-container-id-4 div.sk-estimator {font-family: monospace;background-color: #f0f8ff;border: 1px dotted black;border-radius: 0.25em;box-sizing: border-box;margin-bottom: 0.5em;}#sk-container-id-4 div.sk-estimator:hover {background-color: #d4ebff;}#sk-container-id-4 div.sk-parallel-item::after {content: \"\";width: 100%;border-bottom: 1px solid gray;flex-grow: 1;}#sk-container-id-4 div.sk-label:hover label.sk-toggleable__label {background-color: #d4ebff;}#sk-container-id-4 div.sk-serial::before {content: \"\";position: absolute;border-left: 1px solid gray;box-sizing: border-box;top: 0;bottom: 0;left: 50%;z-index: 0;}#sk-container-id-4 div.sk-serial {display: flex;flex-direction: column;align-items: center;background-color: white;padding-right: 0.2em;padding-left: 0.2em;position: relative;}#sk-container-id-4 div.sk-item {position: relative;z-index: 1;}#sk-container-id-4 div.sk-parallel {display: flex;align-items: stretch;justify-content: center;background-color: white;position: relative;}#sk-container-id-4 div.sk-item::before, #sk-container-id-4 div.sk-parallel-item::before {content: \"\";position: absolute;border-left: 1px solid gray;box-sizing: border-box;top: 0;bottom: 0;left: 50%;z-index: -1;}#sk-container-id-4 div.sk-parallel-item {display: flex;flex-direction: column;z-index: 1;position: relative;background-color: white;}#sk-container-id-4 div.sk-parallel-item:first-child::after {align-self: flex-end;width: 50%;}#sk-container-id-4 div.sk-parallel-item:last-child::after {align-self: flex-start;width: 50%;}#sk-container-id-4 div.sk-parallel-item:only-child::after {width: 0;}#sk-container-id-4 div.sk-dashed-wrapped {border: 1px dashed gray;margin: 0 0.4em 0.5em 0.4em;box-sizing: border-box;padding-bottom: 0.4em;background-color: white;}#sk-container-id-4 div.sk-label label {font-family: monospace;font-weight: bold;display: inline-block;line-height: 1.2em;}#sk-container-id-4 div.sk-label-container {text-align: center;}#sk-container-id-4 div.sk-container {/* jupyter's `normalize.less` sets `[hidden] { display: none; }` but bootstrap.min.css set `[hidden] { display: none !important; }` so we also need the `!important` here to be able to override the default hidden behavior on the sphinx rendered scikit-learn.org. See: https://github.com/scikit-learn/scikit-learn/issues/21755 */display: inline-block !important;position: relative;}#sk-container-id-4 div.sk-text-repr-fallback {display: none;}</style><div id=\"sk-container-id-4\" class=\"sk-top-container\"><div class=\"sk-text-repr-fallback\"><pre>MultinomialNB()</pre><b>In a Jupyter environment, please rerun this cell to show the HTML representation or trust the notebook. <br />On GitHub, the HTML representation is unable to render, please try loading this page with nbviewer.org.</b></div><div class=\"sk-container\" hidden><div class=\"sk-item\"><div class=\"sk-estimator sk-toggleable\"><input class=\"sk-toggleable__control sk-hidden--visually\" id=\"sk-estimator-id-4\" type=\"checkbox\" checked><label for=\"sk-estimator-id-4\" class=\"sk-toggleable__label sk-toggleable__label-arrow\">MultinomialNB</label><div class=\"sk-toggleable__content\"><pre>MultinomialNB()</pre></div></div></div></div></div>"
      ],
      "text/plain": [
       "MultinomialNB()"
      ]
     },
     "execution_count": 61,
     "metadata": {},
     "output_type": "execute_result"
    }
   ],
   "source": [
    "nb.fit(tdm_train,train_y)"
   ]
  },
  {
   "cell_type": "code",
   "execution_count": 62,
   "id": "75a8ac67",
   "metadata": {},
   "outputs": [],
   "source": [
    "pred_nb=nb.predict(tdm_test)"
   ]
  },
  {
   "cell_type": "code",
   "execution_count": 63,
   "id": "e1ea1ad5",
   "metadata": {},
   "outputs": [],
   "source": [
    "from sklearn.metrics import confusion_matrix"
   ]
  },
  {
   "cell_type": "code",
   "execution_count": 64,
   "id": "a60778f2",
   "metadata": {},
   "outputs": [
    {
     "data": {
      "text/plain": [
       "array([[1456,   22,   59],\n",
       "       [ 118,  387,   66],\n",
       "       [  81,   25, 1386]], dtype=int64)"
      ]
     },
     "execution_count": 64,
     "metadata": {},
     "output_type": "execute_result"
    }
   ],
   "source": [
    "tab_nb=confusion_matrix(test_y,pred_nb)\n",
    "tab_nb"
   ]
  },
  {
   "cell_type": "code",
   "execution_count": 65,
   "id": "6aeb5706",
   "metadata": {},
   "outputs": [],
   "source": [
    "# tab_nb.diagonal().sum()/tab_nb.sum()*100 ##---->>> 79.02"
   ]
  },
  {
   "cell_type": "code",
   "execution_count": 66,
   "id": "a3612954",
   "metadata": {},
   "outputs": [
    {
     "data": {
      "text/plain": [
       "89.69444444444444"
      ]
     },
     "execution_count": 66,
     "metadata": {},
     "output_type": "execute_result"
    }
   ],
   "source": [
    "tab_nb.diagonal().sum()/tab_nb.sum()*100   ##------>>> 88.75"
   ]
  },
  {
   "cell_type": "markdown",
   "id": "0425537c",
   "metadata": {},
   "source": [
    "---"
   ]
  },
  {
   "cell_type": "markdown",
   "id": "fe2b4838",
   "metadata": {},
   "source": [
    "<span style=\"padding:20px;color:black;margin:0;font-size:18px;font-family:Arial;display:fit;border-radius:5px;background: linear-gradient(to left,white, darksalmon);overflow:hidden; text-align:center;\"><b>DecisionTreeClassifier</b>"
   ]
  },
  {
   "cell_type": "markdown",
   "id": "d82cc71f",
   "metadata": {},
   "source": [
    "-----"
   ]
  },
  {
   "cell_type": "code",
   "execution_count": 67,
   "id": "2acdbb09",
   "metadata": {},
   "outputs": [],
   "source": [
    "from sklearn.tree import DecisionTreeClassifier\n",
    "dtc=DecisionTreeClassifier()"
   ]
  },
  {
   "cell_type": "code",
   "execution_count": 68,
   "id": "20aecb82",
   "metadata": {},
   "outputs": [],
   "source": [
    "from sklearn.metrics import confusion_matrix"
   ]
  },
  {
   "cell_type": "code",
   "execution_count": 69,
   "id": "0d93ca65",
   "metadata": {},
   "outputs": [
    {
     "data": {
      "text/html": [
       "<style>#sk-container-id-5 {color: black;}#sk-container-id-5 pre{padding: 0;}#sk-container-id-5 div.sk-toggleable {background-color: white;}#sk-container-id-5 label.sk-toggleable__label {cursor: pointer;display: block;width: 100%;margin-bottom: 0;padding: 0.3em;box-sizing: border-box;text-align: center;}#sk-container-id-5 label.sk-toggleable__label-arrow:before {content: \"▸\";float: left;margin-right: 0.25em;color: #696969;}#sk-container-id-5 label.sk-toggleable__label-arrow:hover:before {color: black;}#sk-container-id-5 div.sk-estimator:hover label.sk-toggleable__label-arrow:before {color: black;}#sk-container-id-5 div.sk-toggleable__content {max-height: 0;max-width: 0;overflow: hidden;text-align: left;background-color: #f0f8ff;}#sk-container-id-5 div.sk-toggleable__content pre {margin: 0.2em;color: black;border-radius: 0.25em;background-color: #f0f8ff;}#sk-container-id-5 input.sk-toggleable__control:checked~div.sk-toggleable__content {max-height: 200px;max-width: 100%;overflow: auto;}#sk-container-id-5 input.sk-toggleable__control:checked~label.sk-toggleable__label-arrow:before {content: \"▾\";}#sk-container-id-5 div.sk-estimator input.sk-toggleable__control:checked~label.sk-toggleable__label {background-color: #d4ebff;}#sk-container-id-5 div.sk-label input.sk-toggleable__control:checked~label.sk-toggleable__label {background-color: #d4ebff;}#sk-container-id-5 input.sk-hidden--visually {border: 0;clip: rect(1px 1px 1px 1px);clip: rect(1px, 1px, 1px, 1px);height: 1px;margin: -1px;overflow: hidden;padding: 0;position: absolute;width: 1px;}#sk-container-id-5 div.sk-estimator {font-family: monospace;background-color: #f0f8ff;border: 1px dotted black;border-radius: 0.25em;box-sizing: border-box;margin-bottom: 0.5em;}#sk-container-id-5 div.sk-estimator:hover {background-color: #d4ebff;}#sk-container-id-5 div.sk-parallel-item::after {content: \"\";width: 100%;border-bottom: 1px solid gray;flex-grow: 1;}#sk-container-id-5 div.sk-label:hover label.sk-toggleable__label {background-color: #d4ebff;}#sk-container-id-5 div.sk-serial::before {content: \"\";position: absolute;border-left: 1px solid gray;box-sizing: border-box;top: 0;bottom: 0;left: 50%;z-index: 0;}#sk-container-id-5 div.sk-serial {display: flex;flex-direction: column;align-items: center;background-color: white;padding-right: 0.2em;padding-left: 0.2em;position: relative;}#sk-container-id-5 div.sk-item {position: relative;z-index: 1;}#sk-container-id-5 div.sk-parallel {display: flex;align-items: stretch;justify-content: center;background-color: white;position: relative;}#sk-container-id-5 div.sk-item::before, #sk-container-id-5 div.sk-parallel-item::before {content: \"\";position: absolute;border-left: 1px solid gray;box-sizing: border-box;top: 0;bottom: 0;left: 50%;z-index: -1;}#sk-container-id-5 div.sk-parallel-item {display: flex;flex-direction: column;z-index: 1;position: relative;background-color: white;}#sk-container-id-5 div.sk-parallel-item:first-child::after {align-self: flex-end;width: 50%;}#sk-container-id-5 div.sk-parallel-item:last-child::after {align-self: flex-start;width: 50%;}#sk-container-id-5 div.sk-parallel-item:only-child::after {width: 0;}#sk-container-id-5 div.sk-dashed-wrapped {border: 1px dashed gray;margin: 0 0.4em 0.5em 0.4em;box-sizing: border-box;padding-bottom: 0.4em;background-color: white;}#sk-container-id-5 div.sk-label label {font-family: monospace;font-weight: bold;display: inline-block;line-height: 1.2em;}#sk-container-id-5 div.sk-label-container {text-align: center;}#sk-container-id-5 div.sk-container {/* jupyter's `normalize.less` sets `[hidden] { display: none; }` but bootstrap.min.css set `[hidden] { display: none !important; }` so we also need the `!important` here to be able to override the default hidden behavior on the sphinx rendered scikit-learn.org. See: https://github.com/scikit-learn/scikit-learn/issues/21755 */display: inline-block !important;position: relative;}#sk-container-id-5 div.sk-text-repr-fallback {display: none;}</style><div id=\"sk-container-id-5\" class=\"sk-top-container\"><div class=\"sk-text-repr-fallback\"><pre>DecisionTreeClassifier()</pre><b>In a Jupyter environment, please rerun this cell to show the HTML representation or trust the notebook. <br />On GitHub, the HTML representation is unable to render, please try loading this page with nbviewer.org.</b></div><div class=\"sk-container\" hidden><div class=\"sk-item\"><div class=\"sk-estimator sk-toggleable\"><input class=\"sk-toggleable__control sk-hidden--visually\" id=\"sk-estimator-id-5\" type=\"checkbox\" checked><label for=\"sk-estimator-id-5\" class=\"sk-toggleable__label sk-toggleable__label-arrow\">DecisionTreeClassifier</label><div class=\"sk-toggleable__content\"><pre>DecisionTreeClassifier()</pre></div></div></div></div></div>"
      ],
      "text/plain": [
       "DecisionTreeClassifier()"
      ]
     },
     "execution_count": 69,
     "metadata": {},
     "output_type": "execute_result"
    }
   ],
   "source": [
    "dtc.fit(tdm_train,train_y)"
   ]
  },
  {
   "cell_type": "code",
   "execution_count": 70,
   "id": "2591fdc5",
   "metadata": {},
   "outputs": [],
   "source": [
    "pred_test1=dtc.predict(tdm_test)\n",
    "pred_train1=dtc.predict(tdm_train)"
   ]
  },
  {
   "cell_type": "code",
   "execution_count": 71,
   "id": "fd812521",
   "metadata": {},
   "outputs": [
    {
     "data": {
      "text/plain": [
       "array([[1335,   61,  141],\n",
       "       [  36,  526,    9],\n",
       "       [  47,   35, 1410]], dtype=int64)"
      ]
     },
     "execution_count": 71,
     "metadata": {},
     "output_type": "execute_result"
    }
   ],
   "source": [
    "tab_dt=confusion_matrix(test_y,pred_test1)\n",
    "tab_dt"
   ]
  },
  {
   "cell_type": "code",
   "execution_count": 72,
   "id": "38f7cd56",
   "metadata": {},
   "outputs": [],
   "source": [
    "# tab_dt.diagonal().sum()/tab_dt.sum()*100    ##---------->>> 87.30"
   ]
  },
  {
   "cell_type": "code",
   "execution_count": 73,
   "id": "c5a6f829",
   "metadata": {},
   "outputs": [
    {
     "data": {
      "text/plain": [
       "90.86111111111111"
      ]
     },
     "execution_count": 73,
     "metadata": {},
     "output_type": "execute_result"
    }
   ],
   "source": [
    "tab_dt.diagonal().sum()/tab_dt.sum()*100      ##--------->>> 90.97"
   ]
  },
  {
   "cell_type": "markdown",
   "id": "161a5178",
   "metadata": {},
   "source": [
    "-----"
   ]
  },
  {
   "cell_type": "markdown",
   "id": "e3c1eb4d",
   "metadata": {},
   "source": [
    "<span style=\"padding:20px;color:black;margin:0;font-size:18px;font-family:Arial;display:fit;border-radius:5px;background: linear-gradient(to left,white, darksalmon);overflow:hidden; text-align:center;\"><b>LogisticRegression</b>"
   ]
  },
  {
   "cell_type": "markdown",
   "id": "496adfad",
   "metadata": {},
   "source": [
    "------"
   ]
  },
  {
   "cell_type": "code",
   "execution_count": 74,
   "id": "85942a40",
   "metadata": {},
   "outputs": [],
   "source": [
    "from sklearn.linear_model import LogisticRegression"
   ]
  },
  {
   "cell_type": "code",
   "execution_count": 75,
   "id": "46f5b3c3",
   "metadata": {},
   "outputs": [
    {
     "name": "stderr",
     "output_type": "stream",
     "text": [
      "C:\\Users\\nehaw\\AppData\\Roaming\\Python\\Python311\\site-packages\\sklearn\\linear_model\\_logistic.py:460: ConvergenceWarning: lbfgs failed to converge (status=1):\n",
      "STOP: TOTAL NO. of ITERATIONS REACHED LIMIT.\n",
      "\n",
      "Increase the number of iterations (max_iter) or scale the data as shown in:\n",
      "    https://scikit-learn.org/stable/modules/preprocessing.html\n",
      "Please also refer to the documentation for alternative solver options:\n",
      "    https://scikit-learn.org/stable/modules/linear_model.html#logistic-regression\n",
      "  n_iter_i = _check_optimize_result(\n"
     ]
    },
    {
     "data": {
      "text/html": [
       "<style>#sk-container-id-6 {color: black;}#sk-container-id-6 pre{padding: 0;}#sk-container-id-6 div.sk-toggleable {background-color: white;}#sk-container-id-6 label.sk-toggleable__label {cursor: pointer;display: block;width: 100%;margin-bottom: 0;padding: 0.3em;box-sizing: border-box;text-align: center;}#sk-container-id-6 label.sk-toggleable__label-arrow:before {content: \"▸\";float: left;margin-right: 0.25em;color: #696969;}#sk-container-id-6 label.sk-toggleable__label-arrow:hover:before {color: black;}#sk-container-id-6 div.sk-estimator:hover label.sk-toggleable__label-arrow:before {color: black;}#sk-container-id-6 div.sk-toggleable__content {max-height: 0;max-width: 0;overflow: hidden;text-align: left;background-color: #f0f8ff;}#sk-container-id-6 div.sk-toggleable__content pre {margin: 0.2em;color: black;border-radius: 0.25em;background-color: #f0f8ff;}#sk-container-id-6 input.sk-toggleable__control:checked~div.sk-toggleable__content {max-height: 200px;max-width: 100%;overflow: auto;}#sk-container-id-6 input.sk-toggleable__control:checked~label.sk-toggleable__label-arrow:before {content: \"▾\";}#sk-container-id-6 div.sk-estimator input.sk-toggleable__control:checked~label.sk-toggleable__label {background-color: #d4ebff;}#sk-container-id-6 div.sk-label input.sk-toggleable__control:checked~label.sk-toggleable__label {background-color: #d4ebff;}#sk-container-id-6 input.sk-hidden--visually {border: 0;clip: rect(1px 1px 1px 1px);clip: rect(1px, 1px, 1px, 1px);height: 1px;margin: -1px;overflow: hidden;padding: 0;position: absolute;width: 1px;}#sk-container-id-6 div.sk-estimator {font-family: monospace;background-color: #f0f8ff;border: 1px dotted black;border-radius: 0.25em;box-sizing: border-box;margin-bottom: 0.5em;}#sk-container-id-6 div.sk-estimator:hover {background-color: #d4ebff;}#sk-container-id-6 div.sk-parallel-item::after {content: \"\";width: 100%;border-bottom: 1px solid gray;flex-grow: 1;}#sk-container-id-6 div.sk-label:hover label.sk-toggleable__label {background-color: #d4ebff;}#sk-container-id-6 div.sk-serial::before {content: \"\";position: absolute;border-left: 1px solid gray;box-sizing: border-box;top: 0;bottom: 0;left: 50%;z-index: 0;}#sk-container-id-6 div.sk-serial {display: flex;flex-direction: column;align-items: center;background-color: white;padding-right: 0.2em;padding-left: 0.2em;position: relative;}#sk-container-id-6 div.sk-item {position: relative;z-index: 1;}#sk-container-id-6 div.sk-parallel {display: flex;align-items: stretch;justify-content: center;background-color: white;position: relative;}#sk-container-id-6 div.sk-item::before, #sk-container-id-6 div.sk-parallel-item::before {content: \"\";position: absolute;border-left: 1px solid gray;box-sizing: border-box;top: 0;bottom: 0;left: 50%;z-index: -1;}#sk-container-id-6 div.sk-parallel-item {display: flex;flex-direction: column;z-index: 1;position: relative;background-color: white;}#sk-container-id-6 div.sk-parallel-item:first-child::after {align-self: flex-end;width: 50%;}#sk-container-id-6 div.sk-parallel-item:last-child::after {align-self: flex-start;width: 50%;}#sk-container-id-6 div.sk-parallel-item:only-child::after {width: 0;}#sk-container-id-6 div.sk-dashed-wrapped {border: 1px dashed gray;margin: 0 0.4em 0.5em 0.4em;box-sizing: border-box;padding-bottom: 0.4em;background-color: white;}#sk-container-id-6 div.sk-label label {font-family: monospace;font-weight: bold;display: inline-block;line-height: 1.2em;}#sk-container-id-6 div.sk-label-container {text-align: center;}#sk-container-id-6 div.sk-container {/* jupyter's `normalize.less` sets `[hidden] { display: none; }` but bootstrap.min.css set `[hidden] { display: none !important; }` so we also need the `!important` here to be able to override the default hidden behavior on the sphinx rendered scikit-learn.org. See: https://github.com/scikit-learn/scikit-learn/issues/21755 */display: inline-block !important;position: relative;}#sk-container-id-6 div.sk-text-repr-fallback {display: none;}</style><div id=\"sk-container-id-6\" class=\"sk-top-container\"><div class=\"sk-text-repr-fallback\"><pre>LogisticRegression()</pre><b>In a Jupyter environment, please rerun this cell to show the HTML representation or trust the notebook. <br />On GitHub, the HTML representation is unable to render, please try loading this page with nbviewer.org.</b></div><div class=\"sk-container\" hidden><div class=\"sk-item\"><div class=\"sk-estimator sk-toggleable\"><input class=\"sk-toggleable__control sk-hidden--visually\" id=\"sk-estimator-id-6\" type=\"checkbox\" checked><label for=\"sk-estimator-id-6\" class=\"sk-toggleable__label sk-toggleable__label-arrow\">LogisticRegression</label><div class=\"sk-toggleable__content\"><pre>LogisticRegression()</pre></div></div></div></div></div>"
      ],
      "text/plain": [
       "LogisticRegression()"
      ]
     },
     "execution_count": 75,
     "metadata": {},
     "output_type": "execute_result"
    }
   ],
   "source": [
    "logreg = LogisticRegression()\n",
    "logreg.fit(tdm_train,train_y)"
   ]
  },
  {
   "cell_type": "code",
   "execution_count": 76,
   "id": "ddc0c931",
   "metadata": {},
   "outputs": [],
   "source": [
    "pred_train =logreg.predict(tdm_train)\n",
    "pred_test= logreg.predict(tdm_test)"
   ]
  },
  {
   "cell_type": "code",
   "execution_count": 77,
   "id": "9f527171",
   "metadata": {},
   "outputs": [],
   "source": [
    "from sklearn.metrics import confusion_matrix"
   ]
  },
  {
   "cell_type": "code",
   "execution_count": 78,
   "id": "38b1d8c8",
   "metadata": {},
   "outputs": [
    {
     "data": {
      "text/plain": [
       "array([[1459,   36,   42],\n",
       "       [  47,  504,   20],\n",
       "       [  36,   24, 1432]], dtype=int64)"
      ]
     },
     "execution_count": 78,
     "metadata": {},
     "output_type": "execute_result"
    }
   ],
   "source": [
    "mat_test=confusion_matrix(test_y,pred_test)\n",
    "mat_test"
   ]
  },
  {
   "cell_type": "code",
   "execution_count": 79,
   "id": "6274cfb2",
   "metadata": {},
   "outputs": [],
   "source": [
    "# mat_test.diagonal().sum()/mat_test.sum()*100   ##------->> 89.30"
   ]
  },
  {
   "cell_type": "code",
   "execution_count": 80,
   "id": "d3f16c99",
   "metadata": {},
   "outputs": [
    {
     "data": {
      "text/plain": [
       "94.30555555555556"
      ]
     },
     "execution_count": 80,
     "metadata": {},
     "output_type": "execute_result"
    }
   ],
   "source": [
    "mat_test.diagonal().sum()/mat_test.sum()*100     ##-------->> 93.44"
   ]
  },
  {
   "cell_type": "markdown",
   "id": "4fee54ff",
   "metadata": {},
   "source": [
    "---"
   ]
  },
  {
   "cell_type": "markdown",
   "id": "4c1907af",
   "metadata": {},
   "source": [
    "<span style=\"padding:20px;color:black;margin:0;font-size:18px;font-family:Arial;display:fit;border-radius:5px;background: linear-gradient(to left,white, darksalmon);overflow:hidden; text-align:center;\"><b>Final Accuracy</b>"
   ]
  },
  {
   "cell_type": "markdown",
   "id": "d5885f2b",
   "metadata": {},
   "source": [
    "<div style=\"border-radius:10px;; padding: 15px; background: linear-gradient(to left,white, lightyellow); font-size:100%; text-align:left\">\n",
    "<h3 align=\"left\"><font color=Black>\n",
    "    \n",
    "LogisticRegression : 94.30%\n",
    "        \n",
    "Decision Tree : 90.86%\n",
    "    \n",
    "naive_bayes : 89.69%</font></h3><br>"
   ]
  },
  {
   "cell_type": "markdown",
   "id": "161a41d5",
   "metadata": {},
   "source": [
    "<div style=\"border-radius:10px;; padding: 15px; background: linear-gradient(to left,white, lightyellow); font-size:100%; text-align:left\">\n",
    "<h3 align=\"left\"><font color=Black>Conclusion</font></h3><br>\n",
    "\n",
    "The study successfully built and evaluated an NLP model for emotion prediction using different classification algorithms—Decision Tree, Random Forest, and Naive Bayes. After rigorous training and evaluation, it was observed that [Algorithm X] outperformed the others in terms of accuracy, precision, and recall for the given dataset. This suggests that [Algorithm X] is well-suited for the task of emotion classification in this context. Further research and experimentation may be conducted to explore additional algorithms or fine-tune parameters for potential performance improvement."
   ]
  },
  {
   "cell_type": "code",
   "execution_count": null,
   "id": "0d551883",
   "metadata": {},
   "outputs": [],
   "source": []
  },
  {
   "cell_type": "code",
   "execution_count": null,
   "id": "33f6b177",
   "metadata": {},
   "outputs": [],
   "source": []
  },
  {
   "cell_type": "code",
   "execution_count": null,
   "id": "a54fd562",
   "metadata": {},
   "outputs": [],
   "source": []
  }
 ],
 "metadata": {
  "kernelspec": {
   "display_name": "Python 3 (ipykernel)",
   "language": "python",
   "name": "python3"
  },
  "language_info": {
   "codemirror_mode": {
    "name": "ipython",
    "version": 3
   },
   "file_extension": ".py",
   "mimetype": "text/x-python",
   "name": "python",
   "nbconvert_exporter": "python",
   "pygments_lexer": "ipython3",
   "version": "3.11.4"
  }
 },
 "nbformat": 4,
 "nbformat_minor": 5
}
